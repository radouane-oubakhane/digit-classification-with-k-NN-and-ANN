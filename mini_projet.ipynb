{
 "cells": [
  {
   "attachments": {},
   "cell_type": "markdown",
   "metadata": {},
   "source": [
    "# Mini Projet"
   ]
  },
  {
   "attachments": {},
   "cell_type": "markdown",
   "metadata": {},
   "source": [
    "#### Imports"
   ]
  },
  {
   "cell_type": "code",
   "execution_count": 235,
   "metadata": {},
   "outputs": [],
   "source": [
    "import cv2 as cv\n",
    "import numpy as np\n",
    "import matplotlib.pylab as plt\n",
    "import math\n",
    "import random\n",
    "import csv\n",
    "from tqdm import tqdm\n",
    "from sklearn.metrics import log_loss, accuracy_score"
   ]
  },
  {
   "attachments": {},
   "cell_type": "markdown",
   "metadata": {},
   "source": [
    "### Prétraitement"
   ]
  },
  {
   "cell_type": "code",
   "execution_count": 246,
   "metadata": {},
   "outputs": [],
   "source": [
    "def binarisation(img):\n",
    "    return cv.threshold(img, 127, 255, cv.THRESH_BINARY)[1]\n",
    "\n",
    "\n",
    "def inversion(img):\n",
    "    h, l = img.shape\n",
    "\n",
    "    for i in range(h):\n",
    "        for j in range(l):\n",
    "            if img[i, j] == 0:\n",
    "                img[i, j] = 255\n",
    "            else:\n",
    "                img[i, j] = 0\n",
    "\n",
    "    return img\n",
    "\n",
    "\n",
    "def resize(img: np.array, scale_percent: int):\n",
    "\n",
    "    width = int(img.shape[1] * scale_percent / 100)\n",
    "    height = int(img.shape[0] * scale_percent / 100)\n",
    "\n",
    "    return cv.resize(img, (width, height))"
   ]
  },
  {
   "attachments": {},
   "cell_type": "markdown",
   "metadata": {},
   "source": [
    "### Extraction"
   ]
  },
  {
   "attachments": {},
   "cell_type": "markdown",
   "metadata": {},
   "source": [
    "#### Moment de Hu"
   ]
  },
  {
   "cell_type": "code",
   "execution_count": 247,
   "metadata": {},
   "outputs": [],
   "source": [
    "def moment_ordre(img, p, q):\n",
    "    h, l = img.shape\n",
    "    mpq = 0\n",
    "    for i in range(h):\n",
    "        for j in range(l):\n",
    "            mpq += (i**p) * (j**q) * img[i, j]\n",
    "\n",
    "    return mpq\n",
    "\n",
    "def moment_centraux(img, p, q):\n",
    "    h, l = img.shape\n",
    "\n",
    "    m00 = moment_ordre(img, 0, 0)\n",
    "    m01 = moment_ordre(img, 0, 1)\n",
    "    m10 = moment_ordre(img, 1, 0)\n",
    "\n",
    "    x_bar = (m10 / m00)\n",
    "    y_bar = (m01 / m00)\n",
    "\n",
    "    mupq = 0\n",
    "\n",
    "    for i in range(h):\n",
    "        for j in range(l):\n",
    "            mupq += ((i - x_bar)**p) * ((j - y_bar)**q) * img[i, j]\n",
    "\n",
    "    return mupq\n",
    "\n",
    "def alphapq(img, p, q):\n",
    "    gama = ((p + q) / 2) + 1\n",
    "\n",
    "    alpha = moment_centraux(img, p, q) / moment_centraux(img, 0, 0)**gama\n",
    "\n",
    "    return alpha\n",
    "\n",
    "def moment_hu(img):\n",
    "    phi = np.zeros([7], dtype=np.float64)\n",
    "\n",
    "    a20 = alphapq(img, 2, 0)\n",
    "    a02 = alphapq(img, 0, 2)\n",
    "    a11 = alphapq(img, 1, 1)\n",
    "    a30 = alphapq(img, 3, 0)\n",
    "    a12 = alphapq(img, 1, 2)\n",
    "    a03 = alphapq(img, 0, 3)\n",
    "    a21 = alphapq(img, 2, 1)\n",
    "\n",
    "    phi[0] = a20 - a02\n",
    "    phi[1] = (a20 - a02)**2 + 4*a11**2\n",
    "    phi[2] = (a30 - a12)**2 + (3*a12 - a03)**2\n",
    "    phi[3] = (a30 - a12)**2 + (a12 - a03)**2\n",
    "    phi[4] = (a30 - 3*a12) * (a30 + a12) * ((a30 + a12)**2 - 3*(a21 + a03)**2) + (3*a21 - a03)*(a21 + a03)*(3*(a30+a12**2) - (a21 + a03)**2)\n",
    "    phi[5] = (a20 - a02) * ((a30 + a12)**2 - (a21 + a30)**2) + 4*a11*(a30 + a12)*(a21 + a03)\n",
    "    phi[6] = (3*a21 - a30) * (a30 + a12) * ((a30 + a12)**2 - 3*(a21 + a03)**2) + (3*a12 - a03) * (a21 + a03)*(3*(a30 + a12)**2 - (a21 + a03)**2)\n",
    "\n",
    "    return phi"
   ]
  },
  {
   "attachments": {},
   "cell_type": "markdown",
   "metadata": {},
   "source": [
    "#### Moment de tchebichef"
   ]
  },
  {
   "cell_type": "code",
   "execution_count": 248,
   "metadata": {},
   "outputs": [],
   "source": [
    "def squared_norm(n, N):\n",
    "    return (math.factorial(N + n) / ((2 * n + 1) * math.factorial(N - n - 1)))\n",
    "\n",
    "def pochhammer_symbol(a, k):\n",
    "    s = 1\n",
    "    if k >= 1:\n",
    "        for i in range(k):\n",
    "            s *= (a + i)\n",
    "    return s\n",
    "\n",
    "def polynomial(x, n, M):\n",
    "    t1 = pochhammer_symbol(1 - M, n)\n",
    "    t2 = math.sqrt(squared_norm(n, M))\n",
    "\n",
    "    s = 0\n",
    "\n",
    "    for i in range(n + 1):\n",
    "        t3 = pochhammer_symbol(-n, i)\n",
    "        t4 = pochhammer_symbol(-x, i)\n",
    "        t5 = pochhammer_symbol(1 + n, i)\n",
    "        t6 = (math.factorial(i))**2\n",
    "        t7 = pochhammer_symbol(1 - M, i)\n",
    "\n",
    "        s+= (t3 * t4 * t5) / (t6 * t7)\n",
    "    \n",
    "    return ((t1 / t2) * s)\n",
    "\n",
    "def momentpq(img, n, m):\n",
    "    M, N = img.shape\n",
    "\n",
    "    tnm = 0\n",
    "\n",
    "    for i in range(M):\n",
    "        for j in range(N):\n",
    "            tnm += (polynomial(i, n, M) * polynomial(j, m, M) * img[i, j])\n",
    "\n",
    "    return tnm\n",
    "\n",
    "\n",
    "def moment_tchebichef(img , order=3):\n",
    "    moments = []\n",
    "\n",
    "    for i in range(order + 1):\n",
    "        for j in range(order + 1):\n",
    "            if i + j <= order:\n",
    "                moments.append(momentpq(img, i, j))\n",
    "\n",
    "    return moments"
   ]
  },
  {
   "attachments": {},
   "cell_type": "markdown",
   "metadata": {},
   "source": [
    "### Lecture des images et les Fichiers CSV"
   ]
  },
  {
   "cell_type": "code",
   "execution_count": 249,
   "metadata": {},
   "outputs": [],
   "source": [
    "def lecture_des_images(dataset_path, n_class, n_imgs):\n",
    "    dataset = []\n",
    "\n",
    "    for i in range(n_class):\n",
    "        for j in range(1, n_imgs + 1):\n",
    "            dataset.append(binarisation(\n",
    "                cv.imread(f\"{dataset_path}/{i}/{j}.png\", 0)))\n",
    "\n",
    "    return dataset"
   ]
  },
  {
   "cell_type": "code",
   "execution_count": 250,
   "metadata": {},
   "outputs": [],
   "source": [
    "def csv_files_maker(dataset, n_class, n_imgs, percent_training, moment):\n",
    "\n",
    "    training = int(n_imgs * percent_training)\n",
    "\n",
    "    with open('training_' + moment.__name__ + '.csv', 'w') as file:\n",
    "        writer = csv.writer(file)\n",
    "        data = []\n",
    "        index = 0\n",
    "\n",
    "        for i in range(n_class):\n",
    "            for j in range(training):\n",
    "                data = [j, *moment(dataset[index + j]), i]\n",
    "                writer.writerow(data)\n",
    "            index += (n_imgs - 1)\n",
    "\n",
    "    if percent_training != 1:\n",
    "        \n",
    "        with open('test_' + moment.__name__ + '.csv', 'w') as file:\n",
    "            writer = csv.writer(file)\n",
    "            data = []\n",
    "            index = 0\n",
    "\n",
    "            for i in range(n_class):\n",
    "                for j in range(training, n_imgs):\n",
    "                    data = [j, *moment(dataset[index + j]), i]\n",
    "                    writer.writerow(data)\n",
    "                index += (n_imgs - 1)\n",
    "\n",
    "\n",
    "def read_csv_files(file_path):\n",
    "    with open(file_path, 'r') as file:\n",
    "        return np.loadtxt(file, delimiter=\",\", dtype=np.float128)"
   ]
  },
  {
   "attachments": {},
   "cell_type": "markdown",
   "metadata": {},
   "source": [
    "#### Dataset"
   ]
  },
  {
   "cell_type": "code",
   "execution_count": 251,
   "metadata": {},
   "outputs": [],
   "source": [
    "dataset = lecture_des_images(\"./dataset\", 10, 10)\n",
    "\n",
    "# Moment de Hu\n",
    "\n",
    "csv_files_maker(dataset, 10, 10, 0.8, moment_hu)\n",
    "\n",
    "# Moment de Tchebichef\n",
    "\n",
    "csv_files_maker(dataset, 10, 10, 0.8, moment_tchebichef)"
   ]
  },
  {
   "attachments": {},
   "cell_type": "markdown",
   "metadata": {},
   "source": [
    "### Classification"
   ]
  },
  {
   "attachments": {},
   "cell_type": "markdown",
   "metadata": {},
   "source": [
    "#### Mesures de distance"
   ]
  },
  {
   "cell_type": "code",
   "execution_count": 8,
   "metadata": {},
   "outputs": [],
   "source": [
    "def distance_euclidienne(a, b):\n",
    "    distance = 0\n",
    "    for i in range(1, 8):\n",
    "        distance += np.abs(a[i] - b[i])\n",
    "\n",
    "    return distance\n",
    "\n",
    "def distance_minkowskid(a, b, q):\n",
    "    distance = 0\n",
    "    for i in range(1, 8):\n",
    "        distance += np.abs(a[i] - b[i])**q\n",
    "\n",
    "    return distance**(1 / q)"
   ]
  },
  {
   "attachments": {},
   "cell_type": "markdown",
   "metadata": {},
   "source": [
    "#### K‐plus proches voisins - Python"
   ]
  },
  {
   "attachments": {},
   "cell_type": "markdown",
   "metadata": {},
   "source": [
    "##### Dataset"
   ]
  },
  {
   "cell_type": "code",
   "execution_count": 33,
   "metadata": {},
   "outputs": [],
   "source": [
    "dataset = lecture_des_images(\"./dataset\", 10, 10)\n",
    "\n",
    "# Moment de Hu\n",
    "csv_files_maker(dataset, 10, 10, 0.8, moment_hu)\n",
    "\n",
    "# Moment de Tchebichef\n",
    "csv_files_maker(dataset, 10, 10, 0.8, moment_tchebichef)"
   ]
  },
  {
   "attachments": {},
   "cell_type": "markdown",
   "metadata": {},
   "source": [
    "##### Algorithme"
   ]
  },
  {
   "cell_type": "code",
   "execution_count": 23,
   "metadata": {},
   "outputs": [],
   "source": [
    "def k_plus_proches_voisins(training_file, test_file):\n",
    "    training_matrice = read_csv_files(training_file)\n",
    "    test_matrice = read_csv_files(test_file)\n",
    "\n",
    "    hr, lr = training_matrice.shape\n",
    "    hs, ls = test_matrice.shape\n",
    "\n",
    "    distances = np.zeros([hr, 2], dtype=np.float64)\n",
    "    results = np.zeros([hs], dtype=np.float64) \n",
    "\n",
    "    k = int(input(\"entrer la valeur de k : \"))\n",
    "\n",
    "    for i in range(hs):\n",
    "        for j in range(hr):\n",
    "            distances[j, 0] = distance_minkowskid(test_matrice[i, :], training_matrice[j, :], 2)\n",
    "            distances[j, 1] = int(training_matrice[j, training_matrice.shape[1] - 1])\n",
    "\n",
    "        distances = distances[distances[:, 0].argsort()]\n",
    "\n",
    "        vot = np.zeros([10], dtype='uint8')\n",
    "\n",
    "        for x in range(k):\n",
    "            vot[int(distances[x, 1])] += 1\n",
    "\n",
    "        max = 0\n",
    "        for y in range(1, 10):\n",
    "            if vot[y] > vot[max]:\n",
    "                max = y\n",
    "\n",
    "        results[i] = max\n",
    "    \n",
    "    taux_classification = 0\n",
    "\n",
    "    for y in range(hs):\n",
    "        if int(results[y]) == test_matrice[y, test_matrice.shape[1] - 1]:\n",
    "            taux_classification += 1\n",
    "\n",
    "    taux_classification *= ((1 / hs) * 100)\n",
    "    taux_erreur = 100 - taux_classification\n",
    "    \n",
    "    print(\"Taux de classification :\", taux_classification, \"%\")\n",
    "    print(\"Taux d'erreur : \", taux_erreur, \"%\")    "
   ]
  },
  {
   "attachments": {},
   "cell_type": "markdown",
   "metadata": {},
   "source": [
    "##### Résultat d'exécution"
   ]
  },
  {
   "cell_type": "code",
   "execution_count": 24,
   "metadata": {},
   "outputs": [
    {
     "name": "stdout",
     "output_type": "stream",
     "text": [
      "Moment de Hu : \n",
      "Taux de classification : 25.0 %\n",
      "Taux d'erreur :  75.0 %\n",
      "Moment de Tchebichef : \n",
      "Taux de classification : 35.0 %\n",
      "Taux d'erreur :  65.0 %\n"
     ]
    }
   ],
   "source": [
    "# Moment de Hu\n",
    "print(\"Moment de Hu : \")\n",
    "k_plus_proches_voisins(\"training_moment_hu.csv\", \"test_moment_hu.csv\")\n",
    "\n",
    "# Moment de Tchebichef\n",
    "print(\"Moment de Tchebichef : \")\n",
    "k_plus_proches_voisins(\"training_moment_tchebichef.csv\", \"test_moment_tchebichef.csv\")"
   ]
  },
  {
   "attachments": {},
   "cell_type": "markdown",
   "metadata": {},
   "source": [
    "#### K‐plus proches voisins - Scikit-Learn"
   ]
  },
  {
   "attachments": {},
   "cell_type": "markdown",
   "metadata": {},
   "source": [
    "##### Dataset"
   ]
  },
  {
   "cell_type": "code",
   "execution_count": 252,
   "metadata": {},
   "outputs": [],
   "source": [
    "# Moment de Hu\n",
    "csv_files_maker(dataset, 10, 10, 1, moment_hu)\n",
    "\n",
    "# Moment de Tchebichef\n",
    "csv_files_maker(dataset, 10, 10, 1, moment_tchebichef)"
   ]
  },
  {
   "attachments": {},
   "cell_type": "markdown",
   "metadata": {},
   "source": [
    "##### Algorithme"
   ]
  },
  {
   "cell_type": "code",
   "execution_count": 59,
   "metadata": {},
   "outputs": [],
   "source": [
    "from sklearn.model_selection import train_test_split\n",
    "from sklearn.neighbors import KNeighborsClassifier\n",
    "from sklearn.preprocessing import StandardScaler"
   ]
  },
  {
   "cell_type": "code",
   "execution_count": 167,
   "metadata": {},
   "outputs": [
    {
     "name": "stdout",
     "output_type": "stream",
     "text": [
      "Moment de Hu : \n",
      "Taux de classification : 25.0 %\n",
      "Taux d'erreur :  75.0 %\n",
      "Moment de Tchebichef : \n",
      "Taux de classification : 35.0 %\n",
      "Taux d'erreur :  65.0 %\n"
     ]
    }
   ],
   "source": [
    "# Moment de Hu\n",
    "print(\"Moment de Hu : \")\n",
    "\n",
    "X_hu = read_csv_files(\"training_moment_hu.csv\")\n",
    "\n",
    "y_hu = X_hu[:, X_hu.shape[1] - 1]\n",
    "X_hu = X_hu[:, 1 : X_hu.shape[1] -1]\n",
    "\n",
    "X_hu_train, X_hu_test, y_hu_train, y_hu_test = train_test_split(X_hu, y_hu, test_size=0.2)\n",
    "\n",
    "scaler1 = StandardScaler()\n",
    "scaler1.fit(X_hu_train)\n",
    "X_hu_train = scaler1.transform(X_hu_train)\n",
    "X_hu_test = scaler1.transform(X_hu_test)\n",
    "\n",
    "k = int(input(\"Entrer la valeur de k : \"))\n",
    "\n",
    "kpp = KNeighborsClassifier(n_neighbors=k)\n",
    "kpp.fit(X_hu_train, y_hu_train)\n",
    "y_hu_pred = kpp.predict(X_hu_test)\n",
    "\n",
    "\n",
    "classification_hu = y_hu_pred == y_hu_test\n",
    "taux_classification_hu = 0\n",
    "\n",
    "for i in classification_hu:\n",
    "    if i:\n",
    "        taux_classification_hu += 1\n",
    "\n",
    "taux_classification_hu *= ((1 / y_hu_test.shape[0]) * 100)\n",
    "taux_erreur_hu = 100 - taux_classification_hu\n",
    "\n",
    "print(\"Taux de classification :\", taux_classification_hu, \"%\")\n",
    "print(\"Taux d'erreur : \", taux_erreur_hu, \"%\")  \n",
    "\n",
    "\n",
    "# Moment de Tchebichef\n",
    "print(\"Moment de Tchebichef : \")\n",
    "\n",
    "X_tchebichef = read_csv_files(\"training_moment_tchebichef.csv\")\n",
    "\n",
    "y_tchebichef = X_tchebichef[:, X_tchebichef.shape[1] - 1]\n",
    "X_tchebichef = X_tchebichef[:, 1 : X_tchebichef.shape[1] -1]\n",
    "\n",
    "X_tchebichef_train, X_tchebichef_test, y_tchebichef_train, y_tchebichef_test = train_test_split(X_tchebichef, y_tchebichef, test_size=0.2)\n",
    "\n",
    "scaler2 = StandardScaler()\n",
    "scaler2.fit(X_tchebichef_train)\n",
    "X_tchebichef_train = scaler2.transform(X_tchebichef_train)\n",
    "X_tchebichef_test = scaler2.transform(X_tchebichef_test)\n",
    "\n",
    "k = int(input(\"entrer la valeur de k : \"))\n",
    "\n",
    "kpp = KNeighborsClassifier(n_neighbors=k)\n",
    "kpp.fit(X_tchebichef_train, y_tchebichef_train)\n",
    "y_tchebichef_pred = kpp.predict(X_tchebichef_test)\n",
    "\n",
    "classification_tchebichef = y_tchebichef_pred == y_tchebichef_test\n",
    "taux_classification_tchebichef = 0\n",
    "\n",
    "for i in classification_tchebichef:\n",
    "    if i:\n",
    "        taux_classification_tchebichef += 1\n",
    "\n",
    "taux_classification_tchebichef *= ((1 / y_tchebichef_test.shape[0]) * 100)\n",
    "taux_erreur_tchebichef = 100 - taux_classification_tchebichef\n",
    "\n",
    "print(\"Taux de classification :\", taux_classification_tchebichef, \"%\")\n",
    "print(\"Taux d'erreur : \", taux_erreur_tchebichef, \"%\")  "
   ]
  },
  {
   "attachments": {},
   "cell_type": "markdown",
   "metadata": {},
   "source": [
    "#### Réseaux de neurones - Python"
   ]
  },
  {
   "attachments": {},
   "cell_type": "markdown",
   "metadata": {},
   "source": [
    "##### Dataset"
   ]
  },
  {
   "cell_type": "code",
   "execution_count": 169,
   "metadata": {},
   "outputs": [],
   "source": [
    "# Moment de Hu\n",
    "csv_files_maker(dataset, 10, 10, 0.8, moment_hu)\n",
    "\n",
    "# Moment de Tchebichef\n",
    "csv_files_maker(dataset, 10, 10, 0.8, moment_tchebichef)"
   ]
  },
  {
   "attachments": {},
   "cell_type": "markdown",
   "metadata": {},
   "source": [
    "##### Etape 1: Initialisation des poids des connexions"
   ]
  },
  {
   "cell_type": "code",
   "execution_count": 2,
   "metadata": {},
   "outputs": [],
   "source": [
    "def initialisation(i, j, k):\n",
    "    \n",
    "    Vji = np.random.randn(j, i)\n",
    "    X0 = np.random.randn(j, 1) \n",
    "\n",
    "    Wkj = np.random.randn(k, j)\n",
    "    Y0 = np.random.randn(k, 1) \n",
    "\n",
    "    parametres = {\n",
    "        'Vji': Vji,\n",
    "        'X0': X0,\n",
    "        'Wkj': Wkj,\n",
    "        'Y0': Y0\n",
    "    }\n",
    "\n",
    "    return parametres"
   ]
  },
  {
   "attachments": {},
   "cell_type": "markdown",
   "metadata": {},
   "source": [
    "##### Etape 2: Propagation des entrees"
   ]
  },
  {
   "cell_type": "code",
   "execution_count": 3,
   "metadata": {},
   "outputs": [],
   "source": [
    "def propagation(Xi, parametres):\n",
    "\n",
    "    Vji = parametres['Vji']\n",
    "    X0 = parametres['X0']\n",
    "    Wkj = parametres['Wkj'] \n",
    "    Y0 = parametres['Y0']\n",
    "\n",
    "    Yj = Vji.dot(Xi) + X0\n",
    "    A1 = 1 / (1 + np.exp(-Yj))\n",
    "\n",
    "    Zk = Wkj.dot(A1) + Y0\n",
    "    A2 = 1 / (1 + np.exp(-Zk))\n",
    "\n",
    "    activations = {\n",
    "        'A1': A1,\n",
    "        'A2': A2\n",
    "    }\n",
    "\n",
    "    return activations"
   ]
  },
  {
   "attachments": {},
   "cell_type": "markdown",
   "metadata": {},
   "source": [
    "##### Etape 3: Retropropagation de l'erreur"
   ]
  },
  {
   "cell_type": "code",
   "execution_count": 4,
   "metadata": {},
   "outputs": [],
   "source": [
    "def retropropagation(Xi, Sk, parametres, activations):\n",
    "\n",
    "    Wkj = parametres['Wkj'] \n",
    "\n",
    "    A1 = activations['A1']\n",
    "    A2 = activations['A2']\n",
    "\n",
    "    m = Sk.shape[1]\n",
    "\n",
    "    # Couche de sortie\n",
    "    dKz = A2 - Sk\n",
    "    dWkj = 1 / m * dKz.dot(A1.T)\n",
    "    dY0 = 1 / m * np.sum(dKz, axis=1, keepdims=True)\n",
    "\n",
    "    # Couche cachee\n",
    "    dYj = np.dot(Wkj.T, dKz) * A1 * (1- A1)\n",
    "    dVji = 1 / m * dYj.dot(Xi.T)\n",
    "    dX0 = 1 / m * np.sum(dYj, axis=1, keepdims=True)\n",
    "\n",
    "    gradients = {\n",
    "        'dVji': dVji,\n",
    "        'dX0': dX0,\n",
    "        'dWkj': dWkj,\n",
    "        'dY0': dY0\n",
    "    }\n",
    "\n",
    "    return gradients"
   ]
  },
  {
   "attachments": {},
   "cell_type": "markdown",
   "metadata": {},
   "source": [
    "##### Etape 4: Correction des poids des connexions"
   ]
  },
  {
   "cell_type": "code",
   "execution_count": 5,
   "metadata": {},
   "outputs": [],
   "source": [
    "def correction_poids(parametres, gradients, taux_dapprentissage):\n",
    "\n",
    "    Vji = parametres['Vji']\n",
    "    X0 = parametres['X0']\n",
    "    Wkj = parametres['Wkj'] \n",
    "    Y0 = parametres['Y0']\n",
    "\n",
    "    dVji = gradients['dVji']\n",
    "    dX0 = gradients['dX0']\n",
    "    dWkj = gradients['dWkj']\n",
    "    dY0 = gradients['dY0']\n",
    "\n",
    "    Vji = Vji - taux_dapprentissage * dVji\n",
    "    X0 = X0 - taux_dapprentissage * dX0\n",
    "    Wkj = Wkj - taux_dapprentissage * dWkj\n",
    "    Y0 = Y0 - taux_dapprentissage * dY0\n",
    "    \n",
    "    parametres = {\n",
    "        'Vji': Vji,\n",
    "        'X0': X0,\n",
    "        'Wkj': Wkj,\n",
    "        'Y0': Y0\n",
    "    }\n",
    "\n",
    "    return parametres"
   ]
  },
  {
   "attachments": {},
   "cell_type": "markdown",
   "metadata": {},
   "source": [
    "##### Etape 5: Boucle"
   ]
  },
  {
   "cell_type": "code",
   "execution_count": 77,
   "metadata": {},
   "outputs": [],
   "source": [
    "def reseaux_neurones(Xi, Sk, j, taux_dapprentissage=0.1, n_iter=1000):\n",
    "\n",
    "    i = Xi.shape[0]\n",
    "    k = 10\n",
    "    loss = []\n",
    "    acc = []\n",
    "\n",
    "    parametres = initialisation(i, j, k)\n",
    "\n",
    "    for i in tqdm(range(n_iter)):\n",
    "        activations = propagation(Xi, parametres)\n",
    "\n",
    "        A2 = activations['A2']\n",
    "\n",
    "        # Plot courbe d'apprentissage\n",
    "        \n",
    "        loss.append(log_loss(Sk.flatten(), A2.flatten()))\n",
    "        y_pred = predict(Xi, parametres)\n",
    "        acc.append(accuracy_score(Sk.flatten(), y_pred.flatten()))\n",
    "\n",
    "        gradients = retropropagation(Xi, Sk, parametres, activations)\n",
    "        parametres = correction_poids(parametres, gradients, taux_dapprentissage)\n",
    "\n",
    "        # loss.append(log_loss(Xi, Sk))\n",
    "        # print(log_loss(Xi, Sk))\n",
    "\n",
    "   \n",
    "    plt.figure(figsize=(12, 4))\n",
    "    plt.subplot(1, 2, 1)\n",
    "    plt.plot(loss, label='train loss')\n",
    "    plt.legend()\n",
    "    plt.subplot(1, 2, 2)\n",
    "    plt.plot(acc, label='train acc')\n",
    "    plt.legend()\n",
    "    plt.show()\n",
    "\n",
    "\n",
    "    return parametres"
   ]
  },
  {
   "attachments": {},
   "cell_type": "markdown",
   "metadata": {},
   "source": [
    "##### Prédiction"
   ]
  },
  {
   "cell_type": "code",
   "execution_count": 153,
   "metadata": {},
   "outputs": [],
   "source": [
    "def predict(X, parametres):\n",
    "  activations = propagation(X, parametres)\n",
    "  A2 = activations['A2']\n",
    "  return A2 >= 0.5"
   ]
  },
  {
   "attachments": {},
   "cell_type": "markdown",
   "metadata": {},
   "source": [
    "##### Réseaux de neurones - Moment de Hu"
   ]
  },
  {
   "cell_type": "code",
   "execution_count": 141,
   "metadata": {},
   "outputs": [],
   "source": [
    "def calc_Sk_hu(training_matrice, dataset_size, output):\n",
    "    data = training_matrice[:, 8:].T\n",
    "    sk = np.zeros([dataset_size, output], dtype=np.float64)\n",
    "    \n",
    "    temp = 0\n",
    "    for i in range(dataset_size):\n",
    "        sk[i, int(data[0, temp])] = 1\n",
    "        temp += 1\n",
    "\n",
    "    return sk"
   ]
  },
  {
   "attachments": {},
   "cell_type": "markdown",
   "metadata": {},
   "source": [
    "##### L'apprentissage"
   ]
  },
  {
   "cell_type": "code",
   "execution_count": 240,
   "metadata": {},
   "outputs": [
    {
     "name": "stderr",
     "output_type": "stream",
     "text": [
      "100%|██████████| 1000/1000 [00:05<00:00, 175.60it/s]\n"
     ]
    },
    {
     "data": {
      "image/png": "[encoded data removed]",
      "text/plain": [
       "<Figure size 1200x400 with 2 Axes>"
      ]
     },
     "metadata": {},
     "output_type": "display_data"
    }
   ],
   "source": [
    "input = 7\n",
    "hidden = 3\n",
    "output = 10\n",
    "dataset_size = 80\n",
    "\n",
    "training_matrice_hu = read_csv_files(\"training_moment_hu.csv\")\n",
    "np.random.shuffle(training_matrice_hu)\n",
    "\n",
    "Xi_hu = training_matrice_hu[ : , 1 : 8].T\n",
    "Sk_hu = calc_Sk_hu(training_matrice_hu, 80, 10).T\n",
    "\n",
    "parametres_hu = reseaux_neurones(Xi_hu, Sk_hu, hidden, taux_dapprentissage=0.01, n_iter=1000)"
   ]
  },
  {
   "attachments": {},
   "cell_type": "markdown",
   "metadata": {},
   "source": [
    "##### TR - TE"
   ]
  },
  {
   "cell_type": "code",
   "execution_count": 241,
   "metadata": {},
   "outputs": [
    {
     "name": "stdout",
     "output_type": "stream",
     "text": [
      "moment de Hu : \n",
      "Taux de classification : 10.0 %\n",
      "Taux d'erreur :  90.0 %\n"
     ]
    }
   ],
   "source": [
    "print(\"moment de Hu : \")\n",
    "\n",
    "X_test_hu = read_csv_files(\"test_moment_hu.csv\")[:, 1: 8].T\n",
    "y_test_hu = read_csv_files(\"test_moment_hu.csv\")[:, 8:].T\n",
    "\n",
    "y_pred_hu = []\n",
    "for i in range(20):\n",
    "    y_pred = propagation(X_test_hu[:, i].reshape((7, 1)), parametres_hu)['A2']\n",
    "    temp = y_pred[0]\n",
    "    max = 0\n",
    "    for j in range(1, 10):\n",
    "        if temp < y_pred[j]:\n",
    "            temp = y_pred[j]\n",
    "            max = j\n",
    "\n",
    "    y_pred_hu.append(max)\n",
    "\n",
    "classification_hu = y_pred_hu == y_test_hu[0, :]\n",
    "taux_classification_hu = 0\n",
    "\n",
    "for i in classification_hu:\n",
    "    if i:\n",
    "        taux_classification_hu += 1\n",
    "\n",
    "taux_classification_hu *= ((1 / y_test_hu.shape[1]) * 100)\n",
    "taux_erreur_hu = 100 - taux_classification_hu\n",
    "\n",
    "print(\"Taux de classification :\", taux_classification_hu, \"%\")\n",
    "print(\"Taux d'erreur : \", taux_erreur_hu, \"%\")"
   ]
  },
  {
   "attachments": {},
   "cell_type": "markdown",
   "metadata": {},
   "source": [
    "##### Réseaux de neurones - Moment de Tchebichef "
   ]
  },
  {
   "cell_type": "code",
   "execution_count": 139,
   "metadata": {},
   "outputs": [],
   "source": [
    "def calc_Sk_tchebichef(training_matrice, dataset_size, output):\n",
    "    data = training_matrice[:, 11:].T\n",
    "    sk = np.zeros([dataset_size, output], dtype=np.float64)\n",
    "    \n",
    "    temp = 0\n",
    "    for i in range(dataset_size):\n",
    "        sk[i, int(data[0, temp])] = 1\n",
    "        temp += 1\n",
    "\n",
    "    return sk"
   ]
  },
  {
   "attachments": {},
   "cell_type": "markdown",
   "metadata": {},
   "source": [
    "##### L'apprentissage"
   ]
  },
  {
   "cell_type": "code",
   "execution_count": 233,
   "metadata": {},
   "outputs": [
    {
     "name": "stderr",
     "output_type": "stream",
     "text": [
      "100%|██████████| 1000/1000 [00:05<00:00, 170.83it/s]\n"
     ]
    },
    {
     "data": {
      "image/png": "[encoded data removed]",
      "text/plain": [
       "<Figure size 1200x400 with 2 Axes>"
      ]
     },
     "metadata": {},
     "output_type": "display_data"
    }
   ],
   "source": [
    "input = 10\n",
    "hidden = 3\n",
    "output = 10\n",
    "\n",
    "dataset_size = 80\n",
    "\n",
    "training_matrice_tchebichef  = read_csv_files(\"training_moment_tchebichef.csv\")\n",
    "np.random.shuffle(temp)\n",
    "\n",
    "Xi_tchebichef = training_matrice_tchebichef[ : , 1 : 11].T\n",
    "Sk_tchebichef = calc_Sk_tchebichef(training_matrice_tchebichef, 80, 10).T\n",
    "\n",
    "parametres_tchebichef = reseaux_neurones(Xi_tchebichef, Sk_tchebichef, hidden, taux_dapprentissage=0.3, n_iter=1000)"
   ]
  },
  {
   "attachments": {},
   "cell_type": "markdown",
   "metadata": {},
   "source": [
    "##### TR - TE"
   ]
  },
  {
   "cell_type": "code",
   "execution_count": 234,
   "metadata": {},
   "outputs": [
    {
     "name": "stdout",
     "output_type": "stream",
     "text": [
      "moment de Tchebichef : \n",
      "Taux de classification : 10.0 %\n",
      "Taux d'erreur :  90.0 %\n"
     ]
    }
   ],
   "source": [
    "print(\"moment de Tchebichef : \")\n",
    "\n",
    "X_test_tchebichef = read_csv_files(\"test_moment_tchebichef.csv\")[:, 1: 11].T\n",
    "y_test_tchebichef = read_csv_files(\"test_moment_tchebichef.csv\")[:, 11:].T\n",
    "\n",
    "y_pred_tchebichef = []\n",
    "for i in range(20):\n",
    "    y_pred = propagation(X_test_tchebichef[:, i].reshape((10, 1)), parametres_tchebichef)['A2']\n",
    "    temp = y_pred[0]\n",
    "    max = 0\n",
    "    for j in range(1, 10):\n",
    "        if temp < y_pred[j]:\n",
    "            temp = y_pred[j]\n",
    "            max = j\n",
    "\n",
    "    y_pred_tchebichef.append(max)\n",
    "\n",
    "classification_tchebichef = y_pred_tchebichef == y_test_tchebichef[0, :]\n",
    "taux_classification_tchebichef = 0\n",
    "\n",
    "for i in classification_tchebichef:\n",
    "    if i:\n",
    "        taux_classification_tchebichef += 1\n",
    "\n",
    "taux_classification_tchebichef *= ((1 / y_test_tchebichef.shape[1]) * 100)\n",
    "taux_erreur_tchebichef = 100 - taux_classification_tchebichef\n",
    "\n",
    "print(\"Taux de classification :\", taux_classification_tchebichef, \"%\")\n",
    "print(\"Taux d'erreur : \", taux_erreur_tchebichef, \"%\")"
   ]
  },
  {
   "attachments": {},
   "cell_type": "markdown",
   "metadata": {},
   "source": [
    "#### Réseaux de neurones - Scikit-Learn"
   ]
  },
  {
   "attachments": {},
   "cell_type": "markdown",
   "metadata": {},
   "source": [
    "##### Dataset"
   ]
  },
  {
   "cell_type": "code",
   "execution_count": null,
   "metadata": {},
   "outputs": [],
   "source": [
    "# Moment de Hu\n",
    "csv_files_maker(dataset, 10, 10, 1, moment_hu)\n",
    "\n",
    "# Moment de Tchebichef\n",
    "csv_files_maker(dataset, 10, 10, 1, moment_tchebichef)"
   ]
  },
  {
   "attachments": {},
   "cell_type": "markdown",
   "metadata": {},
   "source": [
    "##### Algorithme"
   ]
  },
  {
   "cell_type": "code",
   "execution_count": 312,
   "metadata": {},
   "outputs": [],
   "source": [
    "from sklearn.neural_network import MLPClassifier\n",
    "from sklearn.model_selection import train_test_split\n",
    "from sklearn.preprocessing import StandardScaler"
   ]
  },
  {
   "cell_type": "code",
   "execution_count": 313,
   "metadata": {},
   "outputs": [
    {
     "name": "stdout",
     "output_type": "stream",
     "text": [
      "Moment de Hu : \n",
      "Taux de classification : 35.0 %\n",
      "Taux d'erreur :  65.0 %\n",
      "Moment de Tchebichef : \n",
      "Taux de classification : 20.0 %\n",
      "Taux d'erreur :  80.0 %\n"
     ]
    }
   ],
   "source": [
    "# Moment de Hu\n",
    "print(\"Moment de Hu : \")\n",
    "\n",
    "X_hu = read_csv_files(\"training_moment_hu.csv\")\n",
    "\n",
    "y_hu = X_hu[:, X_hu.shape[1] - 1]\n",
    "X_hu = X_hu[:, 1 : X_hu.shape[1] -1]\n",
    "\n",
    "X_hu_train, X_hu_test, y_hu_train, y_hu_test = train_test_split(X_hu, y_hu, test_size=0.2)\n",
    "\n",
    "scaler1 = StandardScaler()\n",
    "scaler1.fit(X_hu_train)\n",
    "X_hu_train = scaler1.transform(X_hu_train)\n",
    "X_hu_test = scaler1.transform(X_hu_test)\n",
    "\n",
    "rn1 = MLPClassifier(activation='logistic', solver='sgd', hidden_layer_sizes=(\n",
    "    3,), random_state=1, max_iter=1000, learning_rate_init=0.9)\n",
    "rn1.fit(X_hu_train, y_hu_train)\n",
    "\n",
    "y_hu_pred = rn1.predict(X_hu_test)\n",
    "\n",
    "\n",
    "classification_hu = y_hu_pred == y_hu_test\n",
    "taux_classification_hu = 0\n",
    "\n",
    "for i in classification_hu:\n",
    "    if i:\n",
    "        taux_classification_hu += 1\n",
    "\n",
    "taux_classification_hu *= ((1 / y_hu_test.shape[0]) * 100)\n",
    "taux_erreur_hu = 100 - taux_classification_hu\n",
    "\n",
    "print(\"Taux de classification :\", taux_classification_hu, \"%\")\n",
    "print(\"Taux d'erreur : \", taux_erreur_hu, \"%\")  \n",
    "\n",
    "\n",
    "# Moment de Tchebichef\n",
    "print(\"Moment de Tchebichef : \")\n",
    "\n",
    "X_tchebichef = read_csv_files(\"training_moment_tchebichef.csv\")\n",
    "\n",
    "y_tchebichef = X_tchebichef[:, X_tchebichef.shape[1] - 1]\n",
    "X_tchebichef = X_tchebichef[:, 1 : X_tchebichef.shape[1] -1]\n",
    "\n",
    "X_tchebichef_train, X_tchebichef_test, y_tchebichef_train, y_tchebichef_test = train_test_split(X_tchebichef, y_tchebichef, test_size=0.2)\n",
    "\n",
    "scaler2 = StandardScaler()\n",
    "scaler2.fit(X_tchebichef_train)\n",
    "X_tchebichef_train = scaler2.transform(X_tchebichef_train)\n",
    "X_tchebichef_test = scaler2.transform(X_tchebichef_test)\n",
    "\n",
    "rn2 = MLPClassifier(activation='logistic', solver='sgd', hidden_layer_sizes=(\n",
    "    3,), random_state=1, max_iter=1000, learning_rate_init=0.9)\n",
    "rn2.fit(X_tchebichef_train, y_tchebichef_train)\n",
    "\n",
    "y_tchebichef_pred = rn2.predict(X_tchebichef_test)\n",
    "\n",
    "classification_tchebichef = y_tchebichef_pred == y_tchebichef_test\n",
    "taux_classification_tchebichef = 0\n",
    "\n",
    "for i in classification_tchebichef:\n",
    "    if i:\n",
    "        taux_classification_tchebichef += 1\n",
    "\n",
    "taux_classification_tchebichef *= ((1 / y_tchebichef_test.shape[0]) * 100)\n",
    "taux_erreur_tchebichef = 100 - taux_classification_tchebichef\n",
    "\n",
    "print(\"Taux de classification :\", taux_classification_tchebichef, \"%\")\n",
    "print(\"Taux d'erreur : \", taux_erreur_tchebichef, \"%\")  "
   ]
  }
 ],
 "metadata": {
  "kernelspec": {
   "display_name": "image_processing",
   "language": "python",
   "name": "python3"
  },
  "language_info": {
   "codemirror_mode": {
    "name": "ipython",
    "version": 3
   },
   "file_extension": ".py",
   "mimetype": "text/x-python",
   "name": "python",
   "nbconvert_exporter": "python",
   "pygments_lexer": "ipython3",
   "version": "3.10.8"
  },
  "orig_nbformat": 4,
  "vscode": {
   "interpreter": {
    "hash": "de7a7f68d86e43ef00e022eb9d1b8448b0f54475210cde66655a9125e0c8f45e"
   }
  }
 },
 "nbformat": 4,
 "nbformat_minor": 2
}
